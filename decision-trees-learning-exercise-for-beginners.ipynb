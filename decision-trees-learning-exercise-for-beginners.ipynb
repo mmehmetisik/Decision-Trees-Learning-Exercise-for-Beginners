{
 "cells": [
  {
   "cell_type": "markdown",
   "id": "129d25f0",
   "metadata": {
    "papermill": {
     "duration": 0.006775,
     "end_time": "2023-07-19T05:29:12.348931",
     "exception": false,
     "start_time": "2023-07-19T05:29:12.342156",
     "status": "completed"
    },
    "tags": []
   },
   "source": [
    "![](https://www.zigya.com/blog/wp-content/uploads/2021/01/dig10.png)"
   ]
  },
  {
   "cell_type": "markdown",
   "id": "66f9beb6",
   "metadata": {
    "papermill": {
     "duration": 0.006132,
     "end_time": "2023-07-19T05:29:12.361228",
     "exception": false,
     "start_time": "2023-07-19T05:29:12.355096",
     "status": "completed"
    },
    "tags": []
   },
   "source": [
    "# What is Decision Trees ?"
   ]
  },
  {
   "cell_type": "markdown",
   "id": "500b1ca2",
   "metadata": {
    "papermill": {
     "duration": 0.005726,
     "end_time": "2023-07-19T05:29:12.373469",
     "exception": false,
     "start_time": "2023-07-19T05:29:12.367743",
     "status": "completed"
    },
    "tags": []
   },
   "source": [
    "- Decision Trees are a popular machine learning algorithm used for both classification and regression tasks. They are a supervised learning method that builds a model in the form of a tree structure, where each internal node represents a decision based on a feature, each branch represents the outcome of the decision, and each leaf node represents a class label or a predicted value.\n",
    "\n",
    "- The decision tree algorithm learns from the training data by recursively partitioning the data based on the features, aiming to create homogeneous subsets of data at each internal node. The decision at each node is made based on a specific feature and a threshold value. The goal is to maximize the information gain or minimize the impurity measure at each step.\n",
    "\n",
    "- In a classification task, decision trees can be used to predict the class label of a sample by traversing the tree from the root to a leaf node. Each internal node represents a decision rule, and each leaf node represents a class label. In a regression task, decision trees can be used to predict a continuous value by assigning the average value of the training samples in each leaf node.\n",
    "\n",
    "- Decision trees have several advantages, including their interpretability, as the tree structure can be easily visualized and understood. They can handle both categorical and numerical features and can capture complex relationships between variables. However, decision trees are prone to overfitting, especially when the tree depth is not properly controlled. This can be mitigated by using techniques like pruning or ensembling methods such as Random Forest or Gradient Boosting, which combine multiple decision trees to improve performance.\n",
    "\n",
    "- Overall, decision trees are widely used and versatile machine learning models that provide a clear and intuitive representation of decision-making processes in various domains."
   ]
  },
  {
   "cell_type": "markdown",
   "id": "1cac6b49",
   "metadata": {
    "papermill": {
     "duration": 0.005701,
     "end_time": "2023-07-19T05:29:12.385676",
     "exception": false,
     "start_time": "2023-07-19T05:29:12.379975",
     "status": "completed"
    },
    "tags": []
   },
   "source": [
    "# 1. Import Required Libraries"
   ]
  },
  {
   "cell_type": "code",
   "execution_count": 1,
   "id": "ca9157f1",
   "metadata": {
    "execution": {
     "iopub.execute_input": "2023-07-19T05:29:12.399934Z",
     "iopub.status.busy": "2023-07-19T05:29:12.399415Z",
     "iopub.status.idle": "2023-07-19T05:29:14.074473Z",
     "shell.execute_reply": "2023-07-19T05:29:14.073639Z"
    },
    "executionInfo": {
     "elapsed": 2012,
     "status": "ok",
     "timestamp": 1655123877108,
     "user": {
      "displayName": "Ahmet Alp Sarıca",
      "userId": "00819177888909939823"
     },
     "user_tz": -180
    },
    "id": "a36a6909",
    "papermill": {
     "duration": 1.685448,
     "end_time": "2023-07-19T05:29:14.077040",
     "exception": false,
     "start_time": "2023-07-19T05:29:12.391592",
     "status": "completed"
    },
    "tags": []
   },
   "outputs": [
    {
     "name": "stderr",
     "output_type": "stream",
     "text": [
      "/opt/conda/lib/python3.10/site-packages/scipy/__init__.py:146: UserWarning: A NumPy version >=1.16.5 and <1.23.0 is required for this version of SciPy (detected version 1.23.5\n",
      "  warnings.warn(f\"A NumPy version >={np_minversion} and <{np_maxversion}\"\n"
     ]
    }
   ],
   "source": [
    "import pandas as pd\n",
    "import matplotlib.pyplot as plt\n",
    "\n",
    "from sklearn.tree import plot_tree\n",
    "from sklearn.tree import DecisionTreeClassifier\n",
    "from sklearn.ensemble import RandomForestClassifier\n",
    "from sklearn.model_selection import train_test_split\n",
    "from sklearn.metrics import classification_report"
   ]
  },
  {
   "cell_type": "markdown",
   "id": "0a8084ed",
   "metadata": {
    "papermill": {
     "duration": 0.006409,
     "end_time": "2023-07-19T05:29:14.089765",
     "exception": false,
     "start_time": "2023-07-19T05:29:14.083356",
     "status": "completed"
    },
    "tags": []
   },
   "source": [
    "# 2. Loading the data Set"
   ]
  },
  {
   "cell_type": "code",
   "execution_count": 2,
   "id": "1db1ca26",
   "metadata": {
    "execution": {
     "iopub.execute_input": "2023-07-19T05:29:14.104369Z",
     "iopub.status.busy": "2023-07-19T05:29:14.103518Z",
     "iopub.status.idle": "2023-07-19T05:29:14.126921Z",
     "shell.execute_reply": "2023-07-19T05:29:14.125966Z"
    },
    "executionInfo": {
     "elapsed": 465,
     "status": "ok",
     "timestamp": 1655123881576,
     "user": {
      "displayName": "Ahmet Alp Sarıca",
      "userId": "00819177888909939823"
     },
     "user_tz": -180
    },
    "id": "ba8ac7f2",
    "outputId": "856a8100-e280-4e56-c33d-d94022e7a8b5",
    "papermill": {
     "duration": 0.033352,
     "end_time": "2023-07-19T05:29:14.129329",
     "exception": false,
     "start_time": "2023-07-19T05:29:14.095977",
     "status": "completed"
    },
    "tags": []
   },
   "outputs": [],
   "source": [
    "dataset = pd.read_csv(\"/kaggle/input/titaniccsv/DecisionTrees_titanic.csv\")"
   ]
  },
  {
   "cell_type": "code",
   "execution_count": 3,
   "id": "c78d81ba",
   "metadata": {
    "execution": {
     "iopub.execute_input": "2023-07-19T05:29:14.145202Z",
     "iopub.status.busy": "2023-07-19T05:29:14.144540Z",
     "iopub.status.idle": "2023-07-19T05:29:14.166973Z",
     "shell.execute_reply": "2023-07-19T05:29:14.165801Z"
    },
    "papermill": {
     "duration": 0.032327,
     "end_time": "2023-07-19T05:29:14.169293",
     "exception": false,
     "start_time": "2023-07-19T05:29:14.136966",
     "status": "completed"
    },
    "tags": []
   },
   "outputs": [
    {
     "data": {
      "text/html": [
       "<div>\n",
       "<style scoped>\n",
       "    .dataframe tbody tr th:only-of-type {\n",
       "        vertical-align: middle;\n",
       "    }\n",
       "\n",
       "    .dataframe tbody tr th {\n",
       "        vertical-align: top;\n",
       "    }\n",
       "\n",
       "    .dataframe thead th {\n",
       "        text-align: right;\n",
       "    }\n",
       "</style>\n",
       "<table border=\"1\" class=\"dataframe\">\n",
       "  <thead>\n",
       "    <tr style=\"text-align: right;\">\n",
       "      <th></th>\n",
       "      <th>Survived</th>\n",
       "      <th>Pclass</th>\n",
       "      <th>Sex</th>\n",
       "      <th>Age</th>\n",
       "      <th>SibSp</th>\n",
       "      <th>Parch</th>\n",
       "      <th>Fare</th>\n",
       "      <th>Embarked</th>\n",
       "    </tr>\n",
       "  </thead>\n",
       "  <tbody>\n",
       "    <tr>\n",
       "      <th>0</th>\n",
       "      <td>1</td>\n",
       "      <td>1</td>\n",
       "      <td>0</td>\n",
       "      <td>38.0</td>\n",
       "      <td>1</td>\n",
       "      <td>0</td>\n",
       "      <td>71.2833</td>\n",
       "      <td>0</td>\n",
       "    </tr>\n",
       "    <tr>\n",
       "      <th>1</th>\n",
       "      <td>1</td>\n",
       "      <td>1</td>\n",
       "      <td>0</td>\n",
       "      <td>35.0</td>\n",
       "      <td>1</td>\n",
       "      <td>0</td>\n",
       "      <td>53.1000</td>\n",
       "      <td>2</td>\n",
       "    </tr>\n",
       "    <tr>\n",
       "      <th>2</th>\n",
       "      <td>0</td>\n",
       "      <td>1</td>\n",
       "      <td>1</td>\n",
       "      <td>54.0</td>\n",
       "      <td>0</td>\n",
       "      <td>0</td>\n",
       "      <td>51.8625</td>\n",
       "      <td>2</td>\n",
       "    </tr>\n",
       "    <tr>\n",
       "      <th>3</th>\n",
       "      <td>1</td>\n",
       "      <td>3</td>\n",
       "      <td>0</td>\n",
       "      <td>4.0</td>\n",
       "      <td>1</td>\n",
       "      <td>1</td>\n",
       "      <td>16.7000</td>\n",
       "      <td>2</td>\n",
       "    </tr>\n",
       "    <tr>\n",
       "      <th>4</th>\n",
       "      <td>1</td>\n",
       "      <td>1</td>\n",
       "      <td>0</td>\n",
       "      <td>58.0</td>\n",
       "      <td>0</td>\n",
       "      <td>0</td>\n",
       "      <td>26.5500</td>\n",
       "      <td>2</td>\n",
       "    </tr>\n",
       "  </tbody>\n",
       "</table>\n",
       "</div>"
      ],
      "text/plain": [
       "   Survived  Pclass  Sex   Age  SibSp  Parch     Fare  Embarked\n",
       "0         1       1    0  38.0      1      0  71.2833         0\n",
       "1         1       1    0  35.0      1      0  53.1000         2\n",
       "2         0       1    1  54.0      0      0  51.8625         2\n",
       "3         1       3    0   4.0      1      1  16.7000         2\n",
       "4         1       1    0  58.0      0      0  26.5500         2"
      ]
     },
     "execution_count": 3,
     "metadata": {},
     "output_type": "execute_result"
    }
   ],
   "source": [
    "dataset.head()"
   ]
  },
  {
   "cell_type": "markdown",
   "id": "9ed778e6",
   "metadata": {
    "papermill": {
     "duration": 0.006201,
     "end_time": "2023-07-19T05:29:14.181844",
     "exception": false,
     "start_time": "2023-07-19T05:29:14.175643",
     "status": "completed"
    },
    "tags": []
   },
   "source": [
    "# 3. Data Splitting and Model Training"
   ]
  },
  {
   "cell_type": "code",
   "execution_count": 4,
   "id": "02252103",
   "metadata": {
    "execution": {
     "iopub.execute_input": "2023-07-19T05:29:14.196590Z",
     "iopub.status.busy": "2023-07-19T05:29:14.195956Z",
     "iopub.status.idle": "2023-07-19T05:29:14.200792Z",
     "shell.execute_reply": "2023-07-19T05:29:14.200013Z"
    },
    "papermill": {
     "duration": 0.014535,
     "end_time": "2023-07-19T05:29:14.202777",
     "exception": false,
     "start_time": "2023-07-19T05:29:14.188242",
     "status": "completed"
    },
    "tags": []
   },
   "outputs": [],
   "source": [
    "y = dataset.loc[:,\"Survived\"]"
   ]
  },
  {
   "cell_type": "code",
   "execution_count": 5,
   "id": "d3c6fe67",
   "metadata": {
    "execution": {
     "iopub.execute_input": "2023-07-19T05:29:14.217556Z",
     "iopub.status.busy": "2023-07-19T05:29:14.216937Z",
     "iopub.status.idle": "2023-07-19T05:29:14.227856Z",
     "shell.execute_reply": "2023-07-19T05:29:14.226866Z"
    },
    "executionInfo": {
     "elapsed": 3,
     "status": "ok",
     "timestamp": 1655123882347,
     "user": {
      "displayName": "Ahmet Alp Sarıca",
      "userId": "00819177888909939823"
     },
     "user_tz": -180
    },
    "id": "7fc13f26",
    "papermill": {
     "duration": 0.02106,
     "end_time": "2023-07-19T05:29:14.230134",
     "exception": false,
     "start_time": "2023-07-19T05:29:14.209074",
     "status": "completed"
    },
    "tags": []
   },
   "outputs": [],
   "source": [
    "X = dataset.drop(\"Survived\", axis=1)"
   ]
  },
  {
   "cell_type": "code",
   "execution_count": 6,
   "id": "e6b494f2",
   "metadata": {
    "execution": {
     "iopub.execute_input": "2023-07-19T05:29:14.244987Z",
     "iopub.status.busy": "2023-07-19T05:29:14.244347Z",
     "iopub.status.idle": "2023-07-19T05:29:14.250460Z",
     "shell.execute_reply": "2023-07-19T05:29:14.249658Z"
    },
    "executionInfo": {
     "elapsed": 3,
     "status": "ok",
     "timestamp": 1655123883338,
     "user": {
      "displayName": "Ahmet Alp Sarıca",
      "userId": "00819177888909939823"
     },
     "user_tz": -180
    },
    "id": "dEuxNI8-J7n5",
    "papermill": {
     "duration": 0.015969,
     "end_time": "2023-07-19T05:29:14.252527",
     "exception": false,
     "start_time": "2023-07-19T05:29:14.236558",
     "status": "completed"
    },
    "tags": []
   },
   "outputs": [],
   "source": [
    "X_train, X_test, y_train, y_test = train_test_split(X, y, test_size=0.3)"
   ]
  },
  {
   "cell_type": "markdown",
   "id": "c0093ceb",
   "metadata": {
    "papermill": {
     "duration": 0.006057,
     "end_time": "2023-07-19T05:29:14.264973",
     "exception": false,
     "start_time": "2023-07-19T05:29:14.258916",
     "status": "completed"
    },
    "tags": []
   },
   "source": [
    "# 4. Decision Tree Model Training and Prediction"
   ]
  },
  {
   "cell_type": "code",
   "execution_count": 7,
   "id": "314be02a",
   "metadata": {
    "execution": {
     "iopub.execute_input": "2023-07-19T05:29:14.279483Z",
     "iopub.status.busy": "2023-07-19T05:29:14.278886Z",
     "iopub.status.idle": "2023-07-19T05:29:14.283403Z",
     "shell.execute_reply": "2023-07-19T05:29:14.282661Z"
    },
    "papermill": {
     "duration": 0.01429,
     "end_time": "2023-07-19T05:29:14.285476",
     "exception": false,
     "start_time": "2023-07-19T05:29:14.271186",
     "status": "completed"
    },
    "tags": []
   },
   "outputs": [],
   "source": [
    "decisiontree = DecisionTreeClassifier()"
   ]
  },
  {
   "cell_type": "code",
   "execution_count": 8,
   "id": "c5c5dbe3",
   "metadata": {
    "execution": {
     "iopub.execute_input": "2023-07-19T05:29:14.300361Z",
     "iopub.status.busy": "2023-07-19T05:29:14.299764Z",
     "iopub.status.idle": "2023-07-19T05:29:14.316442Z",
     "shell.execute_reply": "2023-07-19T05:29:14.315344Z"
    },
    "papermill": {
     "duration": 0.026813,
     "end_time": "2023-07-19T05:29:14.318699",
     "exception": false,
     "start_time": "2023-07-19T05:29:14.291886",
     "status": "completed"
    },
    "tags": []
   },
   "outputs": [
    {
     "data": {
      "text/html": [
       "<style>#sk-container-id-1 {color: black;background-color: white;}#sk-container-id-1 pre{padding: 0;}#sk-container-id-1 div.sk-toggleable {background-color: white;}#sk-container-id-1 label.sk-toggleable__label {cursor: pointer;display: block;width: 100%;margin-bottom: 0;padding: 0.3em;box-sizing: border-box;text-align: center;}#sk-container-id-1 label.sk-toggleable__label-arrow:before {content: \"▸\";float: left;margin-right: 0.25em;color: #696969;}#sk-container-id-1 label.sk-toggleable__label-arrow:hover:before {color: black;}#sk-container-id-1 div.sk-estimator:hover label.sk-toggleable__label-arrow:before {color: black;}#sk-container-id-1 div.sk-toggleable__content {max-height: 0;max-width: 0;overflow: hidden;text-align: left;background-color: #f0f8ff;}#sk-container-id-1 div.sk-toggleable__content pre {margin: 0.2em;color: black;border-radius: 0.25em;background-color: #f0f8ff;}#sk-container-id-1 input.sk-toggleable__control:checked~div.sk-toggleable__content {max-height: 200px;max-width: 100%;overflow: auto;}#sk-container-id-1 input.sk-toggleable__control:checked~label.sk-toggleable__label-arrow:before {content: \"▾\";}#sk-container-id-1 div.sk-estimator input.sk-toggleable__control:checked~label.sk-toggleable__label {background-color: #d4ebff;}#sk-container-id-1 div.sk-label input.sk-toggleable__control:checked~label.sk-toggleable__label {background-color: #d4ebff;}#sk-container-id-1 input.sk-hidden--visually {border: 0;clip: rect(1px 1px 1px 1px);clip: rect(1px, 1px, 1px, 1px);height: 1px;margin: -1px;overflow: hidden;padding: 0;position: absolute;width: 1px;}#sk-container-id-1 div.sk-estimator {font-family: monospace;background-color: #f0f8ff;border: 1px dotted black;border-radius: 0.25em;box-sizing: border-box;margin-bottom: 0.5em;}#sk-container-id-1 div.sk-estimator:hover {background-color: #d4ebff;}#sk-container-id-1 div.sk-parallel-item::after {content: \"\";width: 100%;border-bottom: 1px solid gray;flex-grow: 1;}#sk-container-id-1 div.sk-label:hover label.sk-toggleable__label {background-color: #d4ebff;}#sk-container-id-1 div.sk-serial::before {content: \"\";position: absolute;border-left: 1px solid gray;box-sizing: border-box;top: 0;bottom: 0;left: 50%;z-index: 0;}#sk-container-id-1 div.sk-serial {display: flex;flex-direction: column;align-items: center;background-color: white;padding-right: 0.2em;padding-left: 0.2em;position: relative;}#sk-container-id-1 div.sk-item {position: relative;z-index: 1;}#sk-container-id-1 div.sk-parallel {display: flex;align-items: stretch;justify-content: center;background-color: white;position: relative;}#sk-container-id-1 div.sk-item::before, #sk-container-id-1 div.sk-parallel-item::before {content: \"\";position: absolute;border-left: 1px solid gray;box-sizing: border-box;top: 0;bottom: 0;left: 50%;z-index: -1;}#sk-container-id-1 div.sk-parallel-item {display: flex;flex-direction: column;z-index: 1;position: relative;background-color: white;}#sk-container-id-1 div.sk-parallel-item:first-child::after {align-self: flex-end;width: 50%;}#sk-container-id-1 div.sk-parallel-item:last-child::after {align-self: flex-start;width: 50%;}#sk-container-id-1 div.sk-parallel-item:only-child::after {width: 0;}#sk-container-id-1 div.sk-dashed-wrapped {border: 1px dashed gray;margin: 0 0.4em 0.5em 0.4em;box-sizing: border-box;padding-bottom: 0.4em;background-color: white;}#sk-container-id-1 div.sk-label label {font-family: monospace;font-weight: bold;display: inline-block;line-height: 1.2em;}#sk-container-id-1 div.sk-label-container {text-align: center;}#sk-container-id-1 div.sk-container {/* jupyter's `normalize.less` sets `[hidden] { display: none; }` but bootstrap.min.css set `[hidden] { display: none !important; }` so we also need the `!important` here to be able to override the default hidden behavior on the sphinx rendered scikit-learn.org. See: https://github.com/scikit-learn/scikit-learn/issues/21755 */display: inline-block !important;position: relative;}#sk-container-id-1 div.sk-text-repr-fallback {display: none;}</style><div id=\"sk-container-id-1\" class=\"sk-top-container\"><div class=\"sk-text-repr-fallback\"><pre>DecisionTreeClassifier()</pre><b>In a Jupyter environment, please rerun this cell to show the HTML representation or trust the notebook. <br />On GitHub, the HTML representation is unable to render, please try loading this page with nbviewer.org.</b></div><div class=\"sk-container\" hidden><div class=\"sk-item\"><div class=\"sk-estimator sk-toggleable\"><input class=\"sk-toggleable__control sk-hidden--visually\" id=\"sk-estimator-id-1\" type=\"checkbox\" checked><label for=\"sk-estimator-id-1\" class=\"sk-toggleable__label sk-toggleable__label-arrow\">DecisionTreeClassifier</label><div class=\"sk-toggleable__content\"><pre>DecisionTreeClassifier()</pre></div></div></div></div></div>"
      ],
      "text/plain": [
       "DecisionTreeClassifier()"
      ]
     },
     "execution_count": 8,
     "metadata": {},
     "output_type": "execute_result"
    }
   ],
   "source": [
    "decisiontree.fit(X_train, y_train)"
   ]
  },
  {
   "cell_type": "code",
   "execution_count": 9,
   "id": "4ca9c95e",
   "metadata": {
    "execution": {
     "iopub.execute_input": "2023-07-19T05:29:14.333704Z",
     "iopub.status.busy": "2023-07-19T05:29:14.333078Z",
     "iopub.status.idle": "2023-07-19T05:29:14.339397Z",
     "shell.execute_reply": "2023-07-19T05:29:14.338640Z"
    },
    "papermill": {
     "duration": 0.016196,
     "end_time": "2023-07-19T05:29:14.341390",
     "exception": false,
     "start_time": "2023-07-19T05:29:14.325194",
     "status": "completed"
    },
    "tags": []
   },
   "outputs": [],
   "source": [
    "decisiontree_pred = decisiontree.predict(X_test)"
   ]
  },
  {
   "cell_type": "markdown",
   "id": "f437ced4",
   "metadata": {
    "papermill": {
     "duration": 0.006193,
     "end_time": "2023-07-19T05:29:14.354003",
     "exception": false,
     "start_time": "2023-07-19T05:29:14.347810",
     "status": "completed"
    },
    "tags": []
   },
   "source": [
    "# 5. Random Forest Model Training and Prediction"
   ]
  },
  {
   "cell_type": "code",
   "execution_count": 10,
   "id": "be9e354e",
   "metadata": {
    "execution": {
     "iopub.execute_input": "2023-07-19T05:29:14.368633Z",
     "iopub.status.busy": "2023-07-19T05:29:14.368231Z",
     "iopub.status.idle": "2023-07-19T05:29:14.372695Z",
     "shell.execute_reply": "2023-07-19T05:29:14.371566Z"
    },
    "executionInfo": {
     "elapsed": 13,
     "status": "ok",
     "timestamp": 1655123883986,
     "user": {
      "displayName": "Ahmet Alp Sarıca",
      "userId": "00819177888909939823"
     },
     "user_tz": -180
    },
    "id": "4a10b767",
    "papermill": {
     "duration": 0.014395,
     "end_time": "2023-07-19T05:29:14.374733",
     "exception": false,
     "start_time": "2023-07-19T05:29:14.360338",
     "status": "completed"
    },
    "tags": []
   },
   "outputs": [],
   "source": [
    "randomforest = RandomForestClassifier()"
   ]
  },
  {
   "cell_type": "code",
   "execution_count": 11,
   "id": "f614491a",
   "metadata": {
    "execution": {
     "iopub.execute_input": "2023-07-19T05:29:14.390163Z",
     "iopub.status.busy": "2023-07-19T05:29:14.389514Z",
     "iopub.status.idle": "2023-07-19T05:29:14.567684Z",
     "shell.execute_reply": "2023-07-19T05:29:14.566609Z"
    },
    "executionInfo": {
     "elapsed": 12,
     "status": "ok",
     "timestamp": 1655123883986,
     "user": {
      "displayName": "Ahmet Alp Sarıca",
      "userId": "00819177888909939823"
     },
     "user_tz": -180
    },
    "id": "d585e3b0",
    "outputId": "7a1e7b1e-58e8-4702-ef8a-9a8f56b120ec",
    "papermill": {
     "duration": 0.188631,
     "end_time": "2023-07-19T05:29:14.570023",
     "exception": false,
     "start_time": "2023-07-19T05:29:14.381392",
     "status": "completed"
    },
    "tags": []
   },
   "outputs": [
    {
     "data": {
      "text/html": [
       "<style>#sk-container-id-2 {color: black;background-color: white;}#sk-container-id-2 pre{padding: 0;}#sk-container-id-2 div.sk-toggleable {background-color: white;}#sk-container-id-2 label.sk-toggleable__label {cursor: pointer;display: block;width: 100%;margin-bottom: 0;padding: 0.3em;box-sizing: border-box;text-align: center;}#sk-container-id-2 label.sk-toggleable__label-arrow:before {content: \"▸\";float: left;margin-right: 0.25em;color: #696969;}#sk-container-id-2 label.sk-toggleable__label-arrow:hover:before {color: black;}#sk-container-id-2 div.sk-estimator:hover label.sk-toggleable__label-arrow:before {color: black;}#sk-container-id-2 div.sk-toggleable__content {max-height: 0;max-width: 0;overflow: hidden;text-align: left;background-color: #f0f8ff;}#sk-container-id-2 div.sk-toggleable__content pre {margin: 0.2em;color: black;border-radius: 0.25em;background-color: #f0f8ff;}#sk-container-id-2 input.sk-toggleable__control:checked~div.sk-toggleable__content {max-height: 200px;max-width: 100%;overflow: auto;}#sk-container-id-2 input.sk-toggleable__control:checked~label.sk-toggleable__label-arrow:before {content: \"▾\";}#sk-container-id-2 div.sk-estimator input.sk-toggleable__control:checked~label.sk-toggleable__label {background-color: #d4ebff;}#sk-container-id-2 div.sk-label input.sk-toggleable__control:checked~label.sk-toggleable__label {background-color: #d4ebff;}#sk-container-id-2 input.sk-hidden--visually {border: 0;clip: rect(1px 1px 1px 1px);clip: rect(1px, 1px, 1px, 1px);height: 1px;margin: -1px;overflow: hidden;padding: 0;position: absolute;width: 1px;}#sk-container-id-2 div.sk-estimator {font-family: monospace;background-color: #f0f8ff;border: 1px dotted black;border-radius: 0.25em;box-sizing: border-box;margin-bottom: 0.5em;}#sk-container-id-2 div.sk-estimator:hover {background-color: #d4ebff;}#sk-container-id-2 div.sk-parallel-item::after {content: \"\";width: 100%;border-bottom: 1px solid gray;flex-grow: 1;}#sk-container-id-2 div.sk-label:hover label.sk-toggleable__label {background-color: #d4ebff;}#sk-container-id-2 div.sk-serial::before {content: \"\";position: absolute;border-left: 1px solid gray;box-sizing: border-box;top: 0;bottom: 0;left: 50%;z-index: 0;}#sk-container-id-2 div.sk-serial {display: flex;flex-direction: column;align-items: center;background-color: white;padding-right: 0.2em;padding-left: 0.2em;position: relative;}#sk-container-id-2 div.sk-item {position: relative;z-index: 1;}#sk-container-id-2 div.sk-parallel {display: flex;align-items: stretch;justify-content: center;background-color: white;position: relative;}#sk-container-id-2 div.sk-item::before, #sk-container-id-2 div.sk-parallel-item::before {content: \"\";position: absolute;border-left: 1px solid gray;box-sizing: border-box;top: 0;bottom: 0;left: 50%;z-index: -1;}#sk-container-id-2 div.sk-parallel-item {display: flex;flex-direction: column;z-index: 1;position: relative;background-color: white;}#sk-container-id-2 div.sk-parallel-item:first-child::after {align-self: flex-end;width: 50%;}#sk-container-id-2 div.sk-parallel-item:last-child::after {align-self: flex-start;width: 50%;}#sk-container-id-2 div.sk-parallel-item:only-child::after {width: 0;}#sk-container-id-2 div.sk-dashed-wrapped {border: 1px dashed gray;margin: 0 0.4em 0.5em 0.4em;box-sizing: border-box;padding-bottom: 0.4em;background-color: white;}#sk-container-id-2 div.sk-label label {font-family: monospace;font-weight: bold;display: inline-block;line-height: 1.2em;}#sk-container-id-2 div.sk-label-container {text-align: center;}#sk-container-id-2 div.sk-container {/* jupyter's `normalize.less` sets `[hidden] { display: none; }` but bootstrap.min.css set `[hidden] { display: none !important; }` so we also need the `!important` here to be able to override the default hidden behavior on the sphinx rendered scikit-learn.org. See: https://github.com/scikit-learn/scikit-learn/issues/21755 */display: inline-block !important;position: relative;}#sk-container-id-2 div.sk-text-repr-fallback {display: none;}</style><div id=\"sk-container-id-2\" class=\"sk-top-container\"><div class=\"sk-text-repr-fallback\"><pre>RandomForestClassifier()</pre><b>In a Jupyter environment, please rerun this cell to show the HTML representation or trust the notebook. <br />On GitHub, the HTML representation is unable to render, please try loading this page with nbviewer.org.</b></div><div class=\"sk-container\" hidden><div class=\"sk-item\"><div class=\"sk-estimator sk-toggleable\"><input class=\"sk-toggleable__control sk-hidden--visually\" id=\"sk-estimator-id-2\" type=\"checkbox\" checked><label for=\"sk-estimator-id-2\" class=\"sk-toggleable__label sk-toggleable__label-arrow\">RandomForestClassifier</label><div class=\"sk-toggleable__content\"><pre>RandomForestClassifier()</pre></div></div></div></div></div>"
      ],
      "text/plain": [
       "RandomForestClassifier()"
      ]
     },
     "execution_count": 11,
     "metadata": {},
     "output_type": "execute_result"
    }
   ],
   "source": [
    "randomforest.fit(X_train, y_train)"
   ]
  },
  {
   "cell_type": "code",
   "execution_count": 12,
   "id": "96cf5c70",
   "metadata": {
    "execution": {
     "iopub.execute_input": "2023-07-19T05:29:14.585688Z",
     "iopub.status.busy": "2023-07-19T05:29:14.585275Z",
     "iopub.status.idle": "2023-07-19T05:29:14.603220Z",
     "shell.execute_reply": "2023-07-19T05:29:14.602049Z"
    },
    "executionInfo": {
     "elapsed": 8,
     "status": "ok",
     "timestamp": 1655123883987,
     "user": {
      "displayName": "Ahmet Alp Sarıca",
      "userId": "00819177888909939823"
     },
     "user_tz": -180
    },
    "id": "5c87a31d",
    "papermill": {
     "duration": 0.028742,
     "end_time": "2023-07-19T05:29:14.605847",
     "exception": false,
     "start_time": "2023-07-19T05:29:14.577105",
     "status": "completed"
    },
    "tags": []
   },
   "outputs": [],
   "source": [
    "randomforest_pred = randomforest.predict(X_test)"
   ]
  },
  {
   "cell_type": "markdown",
   "id": "21141290",
   "metadata": {
    "papermill": {
     "duration": 0.006623,
     "end_time": "2023-07-19T05:29:14.619462",
     "exception": false,
     "start_time": "2023-07-19T05:29:14.612839",
     "status": "completed"
    },
    "tags": []
   },
   "source": [
    "# 6. Classification Reports for Model Predictions"
   ]
  },
  {
   "cell_type": "code",
   "execution_count": 13,
   "id": "0eb89a68",
   "metadata": {
    "execution": {
     "iopub.execute_input": "2023-07-19T05:29:14.634696Z",
     "iopub.status.busy": "2023-07-19T05:29:14.634278Z",
     "iopub.status.idle": "2023-07-19T05:29:14.648349Z",
     "shell.execute_reply": "2023-07-19T05:29:14.647026Z"
    },
    "executionInfo": {
     "elapsed": 8,
     "status": "ok",
     "timestamp": 1655123883987,
     "user": {
      "displayName": "Ahmet Alp Sarıca",
      "userId": "00819177888909939823"
     },
     "user_tz": -180
    },
    "id": "9516087a",
    "outputId": "004d5f9b-905a-4ddd-b7bb-8fca073c9bdf",
    "papermill": {
     "duration": 0.024369,
     "end_time": "2023-07-19T05:29:14.650588",
     "exception": false,
     "start_time": "2023-07-19T05:29:14.626219",
     "status": "completed"
    },
    "tags": []
   },
   "outputs": [
    {
     "name": "stdout",
     "output_type": "stream",
     "text": [
      "              precision    recall  f1-score   support\n",
      "\n",
      "           0       0.72      0.72      0.72        18\n",
      "           1       0.86      0.86      0.86        37\n",
      "\n",
      "    accuracy                           0.82        55\n",
      "   macro avg       0.79      0.79      0.79        55\n",
      "weighted avg       0.82      0.82      0.82        55\n",
      "\n"
     ]
    }
   ],
   "source": [
    "print(classification_report(y_test, decisiontree_pred))"
   ]
  },
  {
   "cell_type": "code",
   "execution_count": 14,
   "id": "b19d5ddb",
   "metadata": {
    "execution": {
     "iopub.execute_input": "2023-07-19T05:29:14.666317Z",
     "iopub.status.busy": "2023-07-19T05:29:14.665919Z",
     "iopub.status.idle": "2023-07-19T05:29:14.680511Z",
     "shell.execute_reply": "2023-07-19T05:29:14.679211Z"
    },
    "executionInfo": {
     "elapsed": 3,
     "status": "ok",
     "timestamp": 1655123884431,
     "user": {
      "displayName": "Ahmet Alp Sarıca",
      "userId": "00819177888909939823"
     },
     "user_tz": -180
    },
    "id": "10fc29d7",
    "outputId": "e424c020-f805-42f3-b036-84549737fa28",
    "papermill": {
     "duration": 0.025088,
     "end_time": "2023-07-19T05:29:14.682871",
     "exception": false,
     "start_time": "2023-07-19T05:29:14.657783",
     "status": "completed"
    },
    "tags": []
   },
   "outputs": [
    {
     "name": "stdout",
     "output_type": "stream",
     "text": [
      "              precision    recall  f1-score   support\n",
      "\n",
      "           0       0.91      0.56      0.69        18\n",
      "           1       0.82      0.97      0.89        37\n",
      "\n",
      "    accuracy                           0.84        55\n",
      "   macro avg       0.86      0.76      0.79        55\n",
      "weighted avg       0.85      0.84      0.82        55\n",
      "\n"
     ]
    }
   ],
   "source": [
    "print(classification_report(y_test, randomforest_pred))"
   ]
  },
  {
   "cell_type": "code",
   "execution_count": 15,
   "id": "9988766f",
   "metadata": {
    "execution": {
     "iopub.execute_input": "2023-07-19T05:29:14.698535Z",
     "iopub.status.busy": "2023-07-19T05:29:14.698148Z",
     "iopub.status.idle": "2023-07-19T05:29:15.269798Z",
     "shell.execute_reply": "2023-07-19T05:29:15.268398Z"
    },
    "executionInfo": {
     "elapsed": 2034,
     "status": "ok",
     "timestamp": 1655123900802,
     "user": {
      "displayName": "Ahmet Alp Sarıca",
      "userId": "00819177888909939823"
     },
     "user_tz": -180
    },
    "id": "Msoxd5kpwFMf",
    "outputId": "cf874f52-9cae-4fc1-8bc0-9c2f461e3a92",
    "papermill": {
     "duration": 0.582954,
     "end_time": "2023-07-19T05:29:15.272814",
     "exception": false,
     "start_time": "2023-07-19T05:29:14.689860",
     "status": "completed"
    },
    "tags": []
   },
   "outputs": [
    {
     "data": {
      "image/png": "[encoded data removed]",
      "text/plain": [
       "<Figure size 1000x1000 with 1 Axes>"
      ]
     },
     "metadata": {},
     "output_type": "display_data"
    }
   ],
   "source": [
    "fig = plt.figure(figsize=(10,10))\n",
    "plot_tree(decisiontree,\n",
    "          max_depth=2,\n",
    "          feature_names=X.columns,\n",
    "          filled=True,\n",
    "          impurity=False,\n",
    "          rounded=True,\n",
    "          precision=1)\n",
    "\n",
    "plt.show(block=True)"
   ]
  }
 ],
 "metadata": {
  "kernelspec": {
   "display_name": "Python 3",
   "language": "python",
   "name": "python3"
  },
  "language_info": {
   "codemirror_mode": {
    "name": "ipython",
    "version": 3
   },
   "file_extension": ".py",
   "mimetype": "text/x-python",
   "name": "python",
   "nbconvert_exporter": "python",
   "pygments_lexer": "ipython3",
   "version": "3.10.12"
  },
  "papermill": {
   "default_parameters": {},
   "duration": 13.285255,
   "end_time": "2023-07-19T05:29:16.203469",
   "environment_variables": {},
   "exception": null,
   "input_path": "__notebook__.ipynb",
   "output_path": "__notebook__.ipynb",
   "parameters": {},
   "start_time": "2023-07-19T05:29:02.918214",
   "version": "2.4.0"
  }
 },
 "nbformat": 4,
 "nbformat_minor": 5
}
